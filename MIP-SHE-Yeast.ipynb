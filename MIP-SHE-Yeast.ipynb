{
 "cells": [
  {
   "cell_type": "code",
   "execution_count": 1,
   "id": "1d3d6487",
   "metadata": {},
   "outputs": [],
   "source": [
    "import pandas as pd\n",
    "import numpy as np\n",
    "from sklearn.linear_model import Lasso\n",
    "import torch\n",
    "import torch.nn as nn\n",
    "import tenseal as ts\n",
    "import copy\n",
    "import matplotlib.pyplot as plt\n",
    "from sklearn.model_selection import train_test_split\n",
    "from sklearn.metrics import mean_squared_error\n",
    "import time"
   ]
  },
  {
   "cell_type": "markdown",
   "id": "116bd9df",
   "metadata": {},
   "source": [
    "# Yeast"
   ]
  },
  {
   "cell_type": "code",
   "execution_count": 2,
   "id": "5b9279c8",
   "metadata": {},
   "outputs": [
    {
     "name": "stdout",
     "output_type": "stream",
     "text": [
      "genotype shape: (4390, 28220)\n"
     ]
    }
   ],
   "source": [
    "genotype = pd.read_csv('./data/yeast/genotype_full.txt',sep='\\t',index_col=0)\n",
    "print(\"genotype shape:\",genotype.shape)"
   ]
  },
  {
   "cell_type": "code",
   "execution_count": 3,
   "id": "c22f96ba",
   "metadata": {},
   "outputs": [
    {
     "data": {
      "text/html": [
       "<div>\n",
       "<style scoped>\n",
       "    .dataframe tbody tr th:only-of-type {\n",
       "        vertical-align: middle;\n",
       "    }\n",
       "\n",
       "    .dataframe tbody tr th {\n",
       "        vertical-align: top;\n",
       "    }\n",
       "\n",
       "    .dataframe thead th {\n",
       "        text-align: right;\n",
       "    }\n",
       "</style>\n",
       "<table border=\"1\" class=\"dataframe\">\n",
       "  <thead>\n",
       "    <tr style=\"text-align: right;\">\n",
       "      <th></th>\n",
       "      <th>33070_chrI_33070_A_T</th>\n",
       "      <th>33147_chrI_33147_G_T</th>\n",
       "      <th>33152_chrI_33152_T_C</th>\n",
       "      <th>33200_chrI_33200_C_T</th>\n",
       "      <th>33293_chrI_33293_A_T</th>\n",
       "      <th>33328_chrI_33328_C_A</th>\n",
       "      <th>33348_chrI_33348_G_C</th>\n",
       "      <th>33403_chrI_33403_C_T</th>\n",
       "      <th>33502_chrI_33502_A_G</th>\n",
       "      <th>33548_chrI_33548_A_C</th>\n",
       "      <th>...</th>\n",
       "      <th>12048853_chrXVI_925593_G_C</th>\n",
       "      <th>12049199_chrXVI_925939_T_C</th>\n",
       "      <th>12049441_chrXVI_926181_C_T</th>\n",
       "      <th>12050613_chrXVI_927353_T_G</th>\n",
       "      <th>12051167_chrXVI_927907_A_C</th>\n",
       "      <th>12051240_chrXVI_927980_A_G</th>\n",
       "      <th>12051367_chrXVI_928107_C_T</th>\n",
       "      <th>12052782_chrXVI_929522_C_T</th>\n",
       "      <th>12052988_chrXVI_929728_A_G</th>\n",
       "      <th>12053130_chrXVI_929870_C_T</th>\n",
       "    </tr>\n",
       "    <tr>\n",
       "      <th>SAMID</th>\n",
       "      <th></th>\n",
       "      <th></th>\n",
       "      <th></th>\n",
       "      <th></th>\n",
       "      <th></th>\n",
       "      <th></th>\n",
       "      <th></th>\n",
       "      <th></th>\n",
       "      <th></th>\n",
       "      <th></th>\n",
       "      <th></th>\n",
       "      <th></th>\n",
       "      <th></th>\n",
       "      <th></th>\n",
       "      <th></th>\n",
       "      <th></th>\n",
       "      <th></th>\n",
       "      <th></th>\n",
       "      <th></th>\n",
       "      <th></th>\n",
       "      <th></th>\n",
       "    </tr>\n",
       "  </thead>\n",
       "  <tbody>\n",
       "    <tr>\n",
       "      <th>01_01</th>\n",
       "      <td>1</td>\n",
       "      <td>1</td>\n",
       "      <td>1</td>\n",
       "      <td>1</td>\n",
       "      <td>1</td>\n",
       "      <td>1</td>\n",
       "      <td>1</td>\n",
       "      <td>1</td>\n",
       "      <td>1</td>\n",
       "      <td>1</td>\n",
       "      <td>...</td>\n",
       "      <td>0</td>\n",
       "      <td>0</td>\n",
       "      <td>0</td>\n",
       "      <td>0</td>\n",
       "      <td>0</td>\n",
       "      <td>0</td>\n",
       "      <td>0</td>\n",
       "      <td>0</td>\n",
       "      <td>0</td>\n",
       "      <td>0</td>\n",
       "    </tr>\n",
       "    <tr>\n",
       "      <th>01_02</th>\n",
       "      <td>1</td>\n",
       "      <td>1</td>\n",
       "      <td>1</td>\n",
       "      <td>1</td>\n",
       "      <td>1</td>\n",
       "      <td>1</td>\n",
       "      <td>1</td>\n",
       "      <td>1</td>\n",
       "      <td>1</td>\n",
       "      <td>1</td>\n",
       "      <td>...</td>\n",
       "      <td>0</td>\n",
       "      <td>0</td>\n",
       "      <td>0</td>\n",
       "      <td>0</td>\n",
       "      <td>0</td>\n",
       "      <td>0</td>\n",
       "      <td>0</td>\n",
       "      <td>0</td>\n",
       "      <td>0</td>\n",
       "      <td>0</td>\n",
       "    </tr>\n",
       "    <tr>\n",
       "      <th>01_03</th>\n",
       "      <td>0</td>\n",
       "      <td>0</td>\n",
       "      <td>0</td>\n",
       "      <td>0</td>\n",
       "      <td>0</td>\n",
       "      <td>0</td>\n",
       "      <td>0</td>\n",
       "      <td>0</td>\n",
       "      <td>0</td>\n",
       "      <td>0</td>\n",
       "      <td>...</td>\n",
       "      <td>1</td>\n",
       "      <td>1</td>\n",
       "      <td>1</td>\n",
       "      <td>1</td>\n",
       "      <td>1</td>\n",
       "      <td>1</td>\n",
       "      <td>1</td>\n",
       "      <td>1</td>\n",
       "      <td>1</td>\n",
       "      <td>1</td>\n",
       "    </tr>\n",
       "    <tr>\n",
       "      <th>01_04</th>\n",
       "      <td>1</td>\n",
       "      <td>1</td>\n",
       "      <td>1</td>\n",
       "      <td>1</td>\n",
       "      <td>1</td>\n",
       "      <td>1</td>\n",
       "      <td>1</td>\n",
       "      <td>1</td>\n",
       "      <td>1</td>\n",
       "      <td>1</td>\n",
       "      <td>...</td>\n",
       "      <td>1</td>\n",
       "      <td>1</td>\n",
       "      <td>1</td>\n",
       "      <td>1</td>\n",
       "      <td>1</td>\n",
       "      <td>1</td>\n",
       "      <td>1</td>\n",
       "      <td>1</td>\n",
       "      <td>1</td>\n",
       "      <td>1</td>\n",
       "    </tr>\n",
       "    <tr>\n",
       "      <th>01_06</th>\n",
       "      <td>0</td>\n",
       "      <td>0</td>\n",
       "      <td>0</td>\n",
       "      <td>0</td>\n",
       "      <td>0</td>\n",
       "      <td>0</td>\n",
       "      <td>0</td>\n",
       "      <td>0</td>\n",
       "      <td>0</td>\n",
       "      <td>0</td>\n",
       "      <td>...</td>\n",
       "      <td>0</td>\n",
       "      <td>0</td>\n",
       "      <td>0</td>\n",
       "      <td>0</td>\n",
       "      <td>0</td>\n",
       "      <td>0</td>\n",
       "      <td>0</td>\n",
       "      <td>0</td>\n",
       "      <td>0</td>\n",
       "      <td>0</td>\n",
       "    </tr>\n",
       "  </tbody>\n",
       "</table>\n",
       "<p>5 rows × 28220 columns</p>\n",
       "</div>"
      ],
      "text/plain": [
       "       33070_chrI_33070_A_T  33147_chrI_33147_G_T  33152_chrI_33152_T_C  \\\n",
       "SAMID                                                                     \n",
       "01_01                     1                     1                     1   \n",
       "01_02                     1                     1                     1   \n",
       "01_03                     0                     0                     0   \n",
       "01_04                     1                     1                     1   \n",
       "01_06                     0                     0                     0   \n",
       "\n",
       "       33200_chrI_33200_C_T  33293_chrI_33293_A_T  33328_chrI_33328_C_A  \\\n",
       "SAMID                                                                     \n",
       "01_01                     1                     1                     1   \n",
       "01_02                     1                     1                     1   \n",
       "01_03                     0                     0                     0   \n",
       "01_04                     1                     1                     1   \n",
       "01_06                     0                     0                     0   \n",
       "\n",
       "       33348_chrI_33348_G_C  33403_chrI_33403_C_T  33502_chrI_33502_A_G  \\\n",
       "SAMID                                                                     \n",
       "01_01                     1                     1                     1   \n",
       "01_02                     1                     1                     1   \n",
       "01_03                     0                     0                     0   \n",
       "01_04                     1                     1                     1   \n",
       "01_06                     0                     0                     0   \n",
       "\n",
       "       33548_chrI_33548_A_C  ...  12048853_chrXVI_925593_G_C  \\\n",
       "SAMID                        ...                               \n",
       "01_01                     1  ...                           0   \n",
       "01_02                     1  ...                           0   \n",
       "01_03                     0  ...                           1   \n",
       "01_04                     1  ...                           1   \n",
       "01_06                     0  ...                           0   \n",
       "\n",
       "       12049199_chrXVI_925939_T_C  12049441_chrXVI_926181_C_T  \\\n",
       "SAMID                                                           \n",
       "01_01                           0                           0   \n",
       "01_02                           0                           0   \n",
       "01_03                           1                           1   \n",
       "01_04                           1                           1   \n",
       "01_06                           0                           0   \n",
       "\n",
       "       12050613_chrXVI_927353_T_G  12051167_chrXVI_927907_A_C  \\\n",
       "SAMID                                                           \n",
       "01_01                           0                           0   \n",
       "01_02                           0                           0   \n",
       "01_03                           1                           1   \n",
       "01_04                           1                           1   \n",
       "01_06                           0                           0   \n",
       "\n",
       "       12051240_chrXVI_927980_A_G  12051367_chrXVI_928107_C_T  \\\n",
       "SAMID                                                           \n",
       "01_01                           0                           0   \n",
       "01_02                           0                           0   \n",
       "01_03                           1                           1   \n",
       "01_04                           1                           1   \n",
       "01_06                           0                           0   \n",
       "\n",
       "       12052782_chrXVI_929522_C_T  12052988_chrXVI_929728_A_G  \\\n",
       "SAMID                                                           \n",
       "01_01                           0                           0   \n",
       "01_02                           0                           0   \n",
       "01_03                           1                           1   \n",
       "01_04                           1                           1   \n",
       "01_06                           0                           0   \n",
       "\n",
       "       12053130_chrXVI_929870_C_T  \n",
       "SAMID                              \n",
       "01_01                           0  \n",
       "01_02                           0  \n",
       "01_03                           1  \n",
       "01_04                           1  \n",
       "01_06                           0  \n",
       "\n",
       "[5 rows x 28220 columns]"
      ]
     },
     "execution_count": 3,
     "metadata": {},
     "output_type": "execute_result"
    }
   ],
   "source": [
    "genotype[genotype == -1] = 0\n",
    "genotype.head()"
   ]
  },
  {
   "cell_type": "code",
   "execution_count": 4,
   "id": "c25deecd",
   "metadata": {},
   "outputs": [
    {
     "name": "stdout",
     "output_type": "stream",
     "text": [
      "phenotype shape: (4390, 20)\n"
     ]
    }
   ],
   "source": [
    "phenotype = pd.read_csv('./data/yeast/phenotype.csv', sep=',', index_col=0)\n",
    "print(\"phenotype shape:\",phenotype.shape)"
   ]
  },
  {
   "cell_type": "code",
   "execution_count": 5,
   "id": "f41b8967",
   "metadata": {},
   "outputs": [
    {
     "data": {
      "text/html": [
       "<div>\n",
       "<style scoped>\n",
       "    .dataframe tbody tr th:only-of-type {\n",
       "        vertical-align: middle;\n",
       "    }\n",
       "\n",
       "    .dataframe tbody tr th {\n",
       "        vertical-align: top;\n",
       "    }\n",
       "\n",
       "    .dataframe thead th {\n",
       "        text-align: right;\n",
       "    }\n",
       "</style>\n",
       "<table border=\"1\" class=\"dataframe\">\n",
       "  <thead>\n",
       "    <tr style=\"text-align: right;\">\n",
       "      <th></th>\n",
       "      <th>1_CobaltChloride_1</th>\n",
       "      <th>1_CopperSulfate_1</th>\n",
       "      <th>1_Diamide_1</th>\n",
       "      <th>1_E6-Berbamine_1</th>\n",
       "      <th>1_Ethanol_1</th>\n",
       "      <th>1_Formamide_1</th>\n",
       "      <th>1_Hydroxyurea_1</th>\n",
       "      <th>1_IndolaceticAcid_1</th>\n",
       "      <th>1_Lactate_1</th>\n",
       "      <th>1_Lactose_1</th>\n",
       "      <th>1_MagnesiumChloride_1</th>\n",
       "      <th>1_ManganeseSulfate_1</th>\n",
       "      <th>1_Menadione_1</th>\n",
       "      <th>1_Neomycin_1</th>\n",
       "      <th>1_Raffinose_1</th>\n",
       "      <th>1_Trehalose_1</th>\n",
       "      <th>1_Xylose_1</th>\n",
       "      <th>1_YNB_1</th>\n",
       "      <th>1_YPD_1</th>\n",
       "      <th>1_Zeocin_1</th>\n",
       "    </tr>\n",
       "  </thead>\n",
       "  <tbody>\n",
       "    <tr>\n",
       "      <th>01_01</th>\n",
       "      <td>-2.253831</td>\n",
       "      <td>-1.588146</td>\n",
       "      <td>0.194930</td>\n",
       "      <td>-1.055938</td>\n",
       "      <td>-0.250370</td>\n",
       "      <td>0.498227</td>\n",
       "      <td>-0.213244</td>\n",
       "      <td>-0.181865</td>\n",
       "      <td>NaN</td>\n",
       "      <td>-0.847586</td>\n",
       "      <td>-0.352481</td>\n",
       "      <td>1.212162</td>\n",
       "      <td>0.335224</td>\n",
       "      <td>-0.665269</td>\n",
       "      <td>-0.370470</td>\n",
       "      <td>-0.674826</td>\n",
       "      <td>-0.816972</td>\n",
       "      <td>17.711068</td>\n",
       "      <td>25.871208</td>\n",
       "      <td>0.763908</td>\n",
       "    </tr>\n",
       "    <tr>\n",
       "      <th>01_02</th>\n",
       "      <td>-1.887746</td>\n",
       "      <td>0.542872</td>\n",
       "      <td>0.451540</td>\n",
       "      <td>0.011593</td>\n",
       "      <td>0.103719</td>\n",
       "      <td>0.828660</td>\n",
       "      <td>0.639112</td>\n",
       "      <td>0.660820</td>\n",
       "      <td>NaN</td>\n",
       "      <td>-0.620460</td>\n",
       "      <td>0.394129</td>\n",
       "      <td>-1.942857</td>\n",
       "      <td>1.397952</td>\n",
       "      <td>-0.313936</td>\n",
       "      <td>1.007102</td>\n",
       "      <td>0.493351</td>\n",
       "      <td>-1.412415</td>\n",
       "      <td>18.286691</td>\n",
       "      <td>26.218803</td>\n",
       "      <td>1.272112</td>\n",
       "    </tr>\n",
       "    <tr>\n",
       "      <th>01_03</th>\n",
       "      <td>1.047185</td>\n",
       "      <td>0.453067</td>\n",
       "      <td>0.721835</td>\n",
       "      <td>1.645301</td>\n",
       "      <td>0.427616</td>\n",
       "      <td>-0.326177</td>\n",
       "      <td>-0.141772</td>\n",
       "      <td>-0.611875</td>\n",
       "      <td>-0.797737</td>\n",
       "      <td>-0.219193</td>\n",
       "      <td>-0.108411</td>\n",
       "      <td>0.750178</td>\n",
       "      <td>-0.913395</td>\n",
       "      <td>0.419907</td>\n",
       "      <td>-0.072188</td>\n",
       "      <td>-0.346773</td>\n",
       "      <td>0.169568</td>\n",
       "      <td>15.499536</td>\n",
       "      <td>24.496840</td>\n",
       "      <td>0.072323</td>\n",
       "    </tr>\n",
       "    <tr>\n",
       "      <th>01_04</th>\n",
       "      <td>2.417437</td>\n",
       "      <td>0.747427</td>\n",
       "      <td>0.454517</td>\n",
       "      <td>1.856809</td>\n",
       "      <td>-0.135731</td>\n",
       "      <td>0.556514</td>\n",
       "      <td>0.197233</td>\n",
       "      <td>0.371108</td>\n",
       "      <td>NaN</td>\n",
       "      <td>0.666068</td>\n",
       "      <td>0.021487</td>\n",
       "      <td>-0.917218</td>\n",
       "      <td>-0.239386</td>\n",
       "      <td>0.744319</td>\n",
       "      <td>0.033719</td>\n",
       "      <td>1.774186</td>\n",
       "      <td>0.668400</td>\n",
       "      <td>17.301076</td>\n",
       "      <td>25.827809</td>\n",
       "      <td>0.676447</td>\n",
       "    </tr>\n",
       "    <tr>\n",
       "      <th>01_06</th>\n",
       "      <td>-1.041743</td>\n",
       "      <td>0.180384</td>\n",
       "      <td>0.464474</td>\n",
       "      <td>-0.966225</td>\n",
       "      <td>-0.338030</td>\n",
       "      <td>-0.728221</td>\n",
       "      <td>0.543498</td>\n",
       "      <td>-1.833931</td>\n",
       "      <td>-0.170299</td>\n",
       "      <td>0.086030</td>\n",
       "      <td>0.108120</td>\n",
       "      <td>-1.251630</td>\n",
       "      <td>-0.038772</td>\n",
       "      <td>-0.670791</td>\n",
       "      <td>-0.233617</td>\n",
       "      <td>-0.199903</td>\n",
       "      <td>-0.283471</td>\n",
       "      <td>15.308695</td>\n",
       "      <td>25.513351</td>\n",
       "      <td>0.996027</td>\n",
       "    </tr>\n",
       "  </tbody>\n",
       "</table>\n",
       "</div>"
      ],
      "text/plain": [
       "       1_CobaltChloride_1  1_CopperSulfate_1  1_Diamide_1  1_E6-Berbamine_1  \\\n",
       "01_01           -2.253831          -1.588146     0.194930         -1.055938   \n",
       "01_02           -1.887746           0.542872     0.451540          0.011593   \n",
       "01_03            1.047185           0.453067     0.721835          1.645301   \n",
       "01_04            2.417437           0.747427     0.454517          1.856809   \n",
       "01_06           -1.041743           0.180384     0.464474         -0.966225   \n",
       "\n",
       "       1_Ethanol_1  1_Formamide_1  1_Hydroxyurea_1  1_IndolaceticAcid_1  \\\n",
       "01_01    -0.250370       0.498227        -0.213244            -0.181865   \n",
       "01_02     0.103719       0.828660         0.639112             0.660820   \n",
       "01_03     0.427616      -0.326177        -0.141772            -0.611875   \n",
       "01_04    -0.135731       0.556514         0.197233             0.371108   \n",
       "01_06    -0.338030      -0.728221         0.543498            -1.833931   \n",
       "\n",
       "       1_Lactate_1  1_Lactose_1  1_MagnesiumChloride_1  1_ManganeseSulfate_1  \\\n",
       "01_01          NaN    -0.847586              -0.352481              1.212162   \n",
       "01_02          NaN    -0.620460               0.394129             -1.942857   \n",
       "01_03    -0.797737    -0.219193              -0.108411              0.750178   \n",
       "01_04          NaN     0.666068               0.021487             -0.917218   \n",
       "01_06    -0.170299     0.086030               0.108120             -1.251630   \n",
       "\n",
       "       1_Menadione_1  1_Neomycin_1  1_Raffinose_1  1_Trehalose_1  1_Xylose_1  \\\n",
       "01_01       0.335224     -0.665269      -0.370470      -0.674826   -0.816972   \n",
       "01_02       1.397952     -0.313936       1.007102       0.493351   -1.412415   \n",
       "01_03      -0.913395      0.419907      -0.072188      -0.346773    0.169568   \n",
       "01_04      -0.239386      0.744319       0.033719       1.774186    0.668400   \n",
       "01_06      -0.038772     -0.670791      -0.233617      -0.199903   -0.283471   \n",
       "\n",
       "         1_YNB_1    1_YPD_1  1_Zeocin_1  \n",
       "01_01  17.711068  25.871208    0.763908  \n",
       "01_02  18.286691  26.218803    1.272112  \n",
       "01_03  15.499536  24.496840    0.072323  \n",
       "01_04  17.301076  25.827809    0.676447  \n",
       "01_06  15.308695  25.513351    0.996027  "
      ]
     },
     "execution_count": 5,
     "metadata": {},
     "output_type": "execute_result"
    }
   ],
   "source": [
    "phenotype.head()"
   ]
  },
  {
   "cell_type": "code",
   "execution_count": 6,
   "id": "8860778c",
   "metadata": {
    "scrolled": false
   },
   "outputs": [],
   "source": [
    "X = genotype\n",
    "Y = phenotype.iloc[:, 0]\n",
    "X = X[~Y.isna()]\n",
    "Y = Y[~Y.isna()]"
   ]
  },
  {
   "cell_type": "code",
   "execution_count": 7,
   "id": "147089b6",
   "metadata": {},
   "outputs": [],
   "source": [
    "x_train, x_test, y_train,y_test =  train_test_split(X, Y, test_size=0.1, random_state=0)\n",
    "x_train = torch.tensor(x_train.values).float()\n",
    "y_train = torch.tensor(y_train.values).float()\n",
    "x_test = torch.tensor(x_test.values).float()\n",
    "y_test = torch.tensor(y_test.values).float()"
   ]
  },
  {
   "cell_type": "code",
   "execution_count": 8,
   "id": "3d4dd8a9",
   "metadata": {},
   "outputs": [
    {
     "data": {
      "text/html": [
       "<style>#sk-container-id-1 {color: black;background-color: white;}#sk-container-id-1 pre{padding: 0;}#sk-container-id-1 div.sk-toggleable {background-color: white;}#sk-container-id-1 label.sk-toggleable__label {cursor: pointer;display: block;width: 100%;margin-bottom: 0;padding: 0.3em;box-sizing: border-box;text-align: center;}#sk-container-id-1 label.sk-toggleable__label-arrow:before {content: \"▸\";float: left;margin-right: 0.25em;color: #696969;}#sk-container-id-1 label.sk-toggleable__label-arrow:hover:before {color: black;}#sk-container-id-1 div.sk-estimator:hover label.sk-toggleable__label-arrow:before {color: black;}#sk-container-id-1 div.sk-toggleable__content {max-height: 0;max-width: 0;overflow: hidden;text-align: left;background-color: #f0f8ff;}#sk-container-id-1 div.sk-toggleable__content pre {margin: 0.2em;color: black;border-radius: 0.25em;background-color: #f0f8ff;}#sk-container-id-1 input.sk-toggleable__control:checked~div.sk-toggleable__content {max-height: 200px;max-width: 100%;overflow: auto;}#sk-container-id-1 input.sk-toggleable__control:checked~label.sk-toggleable__label-arrow:before {content: \"▾\";}#sk-container-id-1 div.sk-estimator input.sk-toggleable__control:checked~label.sk-toggleable__label {background-color: #d4ebff;}#sk-container-id-1 div.sk-label input.sk-toggleable__control:checked~label.sk-toggleable__label {background-color: #d4ebff;}#sk-container-id-1 input.sk-hidden--visually {border: 0;clip: rect(1px 1px 1px 1px);clip: rect(1px, 1px, 1px, 1px);height: 1px;margin: -1px;overflow: hidden;padding: 0;position: absolute;width: 1px;}#sk-container-id-1 div.sk-estimator {font-family: monospace;background-color: #f0f8ff;border: 1px dotted black;border-radius: 0.25em;box-sizing: border-box;margin-bottom: 0.5em;}#sk-container-id-1 div.sk-estimator:hover {background-color: #d4ebff;}#sk-container-id-1 div.sk-parallel-item::after {content: \"\";width: 100%;border-bottom: 1px solid gray;flex-grow: 1;}#sk-container-id-1 div.sk-label:hover label.sk-toggleable__label {background-color: #d4ebff;}#sk-container-id-1 div.sk-serial::before {content: \"\";position: absolute;border-left: 1px solid gray;box-sizing: border-box;top: 0;bottom: 0;left: 50%;z-index: 0;}#sk-container-id-1 div.sk-serial {display: flex;flex-direction: column;align-items: center;background-color: white;padding-right: 0.2em;padding-left: 0.2em;position: relative;}#sk-container-id-1 div.sk-item {position: relative;z-index: 1;}#sk-container-id-1 div.sk-parallel {display: flex;align-items: stretch;justify-content: center;background-color: white;position: relative;}#sk-container-id-1 div.sk-item::before, #sk-container-id-1 div.sk-parallel-item::before {content: \"\";position: absolute;border-left: 1px solid gray;box-sizing: border-box;top: 0;bottom: 0;left: 50%;z-index: -1;}#sk-container-id-1 div.sk-parallel-item {display: flex;flex-direction: column;z-index: 1;position: relative;background-color: white;}#sk-container-id-1 div.sk-parallel-item:first-child::after {align-self: flex-end;width: 50%;}#sk-container-id-1 div.sk-parallel-item:last-child::after {align-self: flex-start;width: 50%;}#sk-container-id-1 div.sk-parallel-item:only-child::after {width: 0;}#sk-container-id-1 div.sk-dashed-wrapped {border: 1px dashed gray;margin: 0 0.4em 0.5em 0.4em;box-sizing: border-box;padding-bottom: 0.4em;background-color: white;}#sk-container-id-1 div.sk-label label {font-family: monospace;font-weight: bold;display: inline-block;line-height: 1.2em;}#sk-container-id-1 div.sk-label-container {text-align: center;}#sk-container-id-1 div.sk-container {/* jupyter's `normalize.less` sets `[hidden] { display: none; }` but bootstrap.min.css set `[hidden] { display: none !important; }` so we also need the `!important` here to be able to override the default hidden behavior on the sphinx rendered scikit-learn.org. See: https://github.com/scikit-learn/scikit-learn/issues/21755 */display: inline-block !important;position: relative;}#sk-container-id-1 div.sk-text-repr-fallback {display: none;}</style><div id=\"sk-container-id-1\" class=\"sk-top-container\"><div class=\"sk-text-repr-fallback\"><pre>Lasso(alpha=0.00433031418540213)</pre><b>In a Jupyter environment, please rerun this cell to show the HTML representation or trust the notebook. <br />On GitHub, the HTML representation is unable to render, please try loading this page with nbviewer.org.</b></div><div class=\"sk-container\" hidden><div class=\"sk-item\"><div class=\"sk-estimator sk-toggleable\"><input class=\"sk-toggleable__control sk-hidden--visually\" id=\"sk-estimator-id-1\" type=\"checkbox\" checked><label for=\"sk-estimator-id-1\" class=\"sk-toggleable__label sk-toggleable__label-arrow\">Lasso</label><div class=\"sk-toggleable__content\"><pre>Lasso(alpha=0.00433031418540213)</pre></div></div></div></div></div>"
      ],
      "text/plain": [
       "Lasso(alpha=0.00433031418540213)"
      ]
     },
     "execution_count": 8,
     "metadata": {},
     "output_type": "execute_result"
    }
   ],
   "source": [
    "model=Lasso(alpha=0.00433031418540213,fit_intercept=True)\n",
    "model.fit(x_train,y_train)"
   ]
  },
  {
   "cell_type": "code",
   "execution_count": 9,
   "id": "68033217",
   "metadata": {},
   "outputs": [
    {
     "name": "stdout",
     "output_type": "stream",
     "text": [
      "number of non-zero parameters: 325\n"
     ]
    }
   ],
   "source": [
    "non_zero_index = np.where(model.coef_!=0)[0]\n",
    "print(\"number of non-zero parameters:\",len(non_zero_index))"
   ]
  },
  {
   "cell_type": "code",
   "execution_count": 10,
   "id": "a5a90242",
   "metadata": {},
   "outputs": [],
   "source": [
    "zero_index = np.setdiff1d(np.arange(0,len(model.coef_)),non_zero_index)"
   ]
  },
  {
   "cell_type": "code",
   "execution_count": 11,
   "id": "e93a36e6",
   "metadata": {},
   "outputs": [],
   "source": [
    "PSR = 0.2\n",
    "perturbation = zero_index[np.random.randint(0,len(zero_index),int(PSR*len(non_zero_index)))]"
   ]
  },
  {
   "cell_type": "code",
   "execution_count": 12,
   "id": "78a1ed88",
   "metadata": {},
   "outputs": [],
   "source": [
    "MIP_index = np.concatenate((non_zero_index,perturbation))\n",
    "MIP_model = model.coef_[MIP_index]\n",
    "MIP_data = x_test[:,MIP_index]"
   ]
  },
  {
   "cell_type": "markdown",
   "id": "7388bf10",
   "metadata": {},
   "source": [
    "MIP against MIA"
   ]
  },
  {
   "cell_type": "code",
   "execution_count": 13,
   "id": "0ab17886",
   "metadata": {},
   "outputs": [
    {
     "name": "stdout",
     "output_type": "stream",
     "text": [
      "x_train_att shape: torch.Size([417, 28220])\n",
      "x_test_att shape: torch.Size([417, 28220])\n"
     ]
    }
   ],
   "source": [
    "train_att_ind = np.random.randint(0,x_train.shape[0],x_test.shape[0])\n",
    "x_train_att = x_train[train_att_ind,:]\n",
    "x_test_att = x_test\n",
    "print(\"x_train_att shape:\", x_train_att.shape)\n",
    "print(\"x_test_att shape:\",x_test_att.shape)"
   ]
  },
  {
   "cell_type": "code",
   "execution_count": 14,
   "id": "29befd61",
   "metadata": {},
   "outputs": [],
   "source": [
    "def MIA_attack(model, att_coeff, PSR, non_zero_ind, zero_ind, num_bin ,x_train_att, x_test_att):\n",
    "    model_att = copy.deepcopy(model)\n",
    "    perturbation = zero_index[np.random.randint(0,len(zero_ind),int(PSR*len(non_zero_ind)))]\n",
    "    MIP_ind = np.concatenate((non_zero_index,perturbation))\n",
    "    model_att.coef_[perturbation]=att_coeff\n",
    "    y_train_att=model_att.predict(x_train_att)\n",
    "    y_test_att = model_att.predict(x_test_att)\n",
    "    y_train_ = (y_train_att-y_train_att.min())/(y_train_att.max()-y_train_att.min())\n",
    "    y_test_ = (y_test_att-y_test_att.min())/(y_test_att.max()-y_test_att.min())\n",
    "    n1, _, _ = plt.hist(y_train_, bins=num_bin, alpha=0.7, label='train',density=True,range=[0,1])\n",
    "    n2, _, _ = plt.hist(y_test_, bins=num_bin, alpha=0.7, label='test',density=True,range=[0,1])\n",
    "    return 0.5*np.linalg.norm(n1-n2,1)/bins"
   ]
  },
  {
   "cell_type": "code",
   "execution_count": 15,
   "id": "45710d88",
   "metadata": {},
   "outputs": [
    {
     "name": "stdout",
     "output_type": "stream",
     "text": [
      "[0.16067146 0.16067146 0.15827338 0.15827338 0.15827338 0.15347722\n",
      " 0.15107914 0.16306954]\n"
     ]
    },
    {
     "data": {
      "image/png": "[encoded data removed]",
      "text/plain": [
       "<Figure size 432x288 with 1 Axes>"
      ]
     },
     "metadata": {
      "needs_background": "light"
     },
     "output_type": "display_data"
    }
   ],
   "source": [
    "PSR_set = [0,0.2,0.5,1,2,5,10,20]\n",
    "tvd_set=[]\n",
    "bins=20\n",
    "for i in range (20):\n",
    "    tvd0=[]\n",
    "    for psr in PSR_set:\n",
    "        tvd = MIA_attack(model,model.coef_.mean(),psr,non_zero_index,zero_index,bins,x_train_att,x_test_att)\n",
    "        tvd0.append(tvd)\n",
    "    tvd_set.append(tvd0)\n",
    "print(np.array(tvd_set).min(axis=0))"
   ]
  },
  {
   "cell_type": "markdown",
   "id": "b4c1fe7a",
   "metadata": {},
   "source": [
    "SHE"
   ]
  },
  {
   "cell_type": "code",
   "execution_count": 16,
   "id": "4b808a48",
   "metadata": {},
   "outputs": [],
   "source": [
    "# Setup TenSEAL context\n",
    "context = ts.context(\n",
    "            ts.SCHEME_TYPE.CKKS,\n",
    "            poly_modulus_degree=8192,\n",
    "            coeff_mod_bit_sizes=[60,40, 40, 60]\n",
    "          )\n",
    "context.generate_galois_keys()\n",
    "context.global_scale = 2**40"
   ]
  },
  {
   "cell_type": "code",
   "execution_count": 17,
   "id": "90bb5270",
   "metadata": {},
   "outputs": [
    {
     "name": "stdout",
     "output_type": "stream",
     "text": [
      "model encryption time: 2.052216053009033\n"
     ]
    }
   ],
   "source": [
    "enc_model = []\n",
    "time_start = time.time()\n",
    "for para in MIP_model:\n",
    "    enc_model.append(ts.ckks_vector(context,[para]))\n",
    "time_end = time.time()\n",
    "print(\"model encryption time:\",time_end-time_start)"
   ]
  },
  {
   "cell_type": "code",
   "execution_count": 18,
   "id": "1c168035",
   "metadata": {},
   "outputs": [
    {
     "name": "stdout",
     "output_type": "stream",
     "text": [
      "data encryption time (per sample): 2.561357021331787\n"
     ]
    }
   ],
   "source": [
    "enc_data = []\n",
    "time_start = time.time()\n",
    "num_sample = 10\n",
    "for sample in MIP_data[:num_sample]:\n",
    "    enc_sample =[]\n",
    "    for feature in sample:\n",
    "        enc_sample.append(ts.ckks_vector(context,[feature]))\n",
    "    enc_data.append(enc_sample)\n",
    "time_end = time.time()\n",
    "print(\"data encryption time (per sample):\",(time_end-time_start)/num_sample)"
   ]
  },
  {
   "cell_type": "code",
   "execution_count": 19,
   "id": "22064f20",
   "metadata": {},
   "outputs": [
    {
     "name": "stdout",
     "output_type": "stream",
     "text": [
      "Prediction time (per sample): 2.0643601179122926\n"
     ]
    }
   ],
   "source": [
    "enc_output = []\n",
    "time_start = time.time()\n",
    "for i in range(len(enc_data)):\n",
    "    enc_sample = enc_data[i]\n",
    "    out=0\n",
    "    for j in range(len(enc_sample)):\n",
    "        out += enc_model[j]*enc_sample[j]\n",
    "    enc_output.append(out)\n",
    "time_end = time.time() \n",
    "print(\"Prediction time (per sample):\",(time_end-time_start)/num_sample)"
   ]
  },
  {
   "cell_type": "code",
   "execution_count": 20,
   "id": "6807a2e6",
   "metadata": {},
   "outputs": [
    {
     "name": "stdout",
     "output_type": "stream",
     "text": [
      "decryption time: 0.013390302658081055\n"
     ]
    }
   ],
   "source": [
    "dec_output = []\n",
    "time_start = time.time()\n",
    "for out in enc_output:\n",
    "    dec_output.append(out.decrypt())\n",
    "time_end=time.time()\n",
    "print('decryption time:',time_end-time_start)"
   ]
  }
 ],
 "metadata": {
  "kernelspec": {
   "display_name": "Python 3",
   "language": "python",
   "name": "python3"
  },
  "language_info": {
   "codemirror_mode": {
    "name": "ipython",
    "version": 3
   },
   "file_extension": ".py",
   "mimetype": "text/x-python",
   "name": "python",
   "nbconvert_exporter": "python",
   "pygments_lexer": "ipython3",
   "version": "3.8.10"
  }
 },
 "nbformat": 4,
 "nbformat_minor": 5
}
